{
 "cells": [
  {
   "cell_type": "code",
   "execution_count": 1,
   "id": "a9a1b4eb",
   "metadata": {},
   "outputs": [
    {
     "name": "stderr",
     "output_type": "stream",
     "text": [
      "/Library/Frameworks/Python.framework/Versions/3.8/lib/python3.8/site-packages/fuzzywuzzy/fuzz.py:11: UserWarning: Using slow pure-python SequenceMatcher. Install python-Levenshtein to remove this warning\n",
      "  warnings.warn('Using slow pure-python SequenceMatcher. Install python-Levenshtein to remove this warning')\n"
     ]
    }
   ],
   "source": [
    "import pandas as pd\n",
    "import numpy as np\n",
    "import regex as re\n",
    "import matplotlib.pyplot as plt\n",
    "import zipfile\n",
    "import io\n",
    "from geotext import GeoText\n",
    "from fuzzywuzzy import fuzz\n",
    "from collections import defaultdict\n",
    "from TexSoup import TexSoup\n",
    "import nltk\n",
    "# import spacy\n",
    "import itertools\n",
    "sample_entries = pd.read_excel(r'arxiv_primary_org_author_counts_sample.xlsx')\n",
    "suborg_counts = pd.read_excel(r'arxiv_primary_org_suborg_counts_sample.xlsx')\n",
    "institution_list = pd.read_csv(\"ror.csv\")\n",
    "org_counts = pd.read_excel(r'arxiv_primary_org_counts_sample.xlsx')\n",
    "members = pd.read_table('members11.tsv',sep='\\t')\n",
    "pd.set_option('display.max_colwidth', None)\n",
    "orgs = set(members['Institution'].unique()).union(set(org_counts['Org Name'].unique())).union(set(institution_list['name']))\n"
   ]
  },
  {
   "cell_type": "code",
   "execution_count": 2,
   "id": "72b05a43",
   "metadata": {},
   "outputs": [],
   "source": [
    "num_test = 45\n",
    "test_cases = []\n",
    "for i in range(1,num_test+1):\n",
    "    with open('testcases/'+str(i) + \".tex\", \"r\", encoding =\"utf8\") as df:\n",
    "        test_cases.append(df.read().replace(\"\\n\", \"\").replace(\"\\r\", \"\"))\n"
   ]
  },
  {
   "cell_type": "code",
   "execution_count": 3,
   "id": "327d4491",
   "metadata": {},
   "outputs": [],
   "source": [
    "doc_types = {\n",
    "    \"article\":0,\n",
    "    \"IEEEtran\":0,\n",
    "    \"report\":0,\n",
    "    \"book\":0,\n",
    "    'slides':0,\n",
    "    \"letter\":0,\n",
    "    \"proc\":0\n",
    "            }\n",
    "doc_keys = list(doc_types.keys())"
   ]
  },
  {
   "cell_type": "code",
   "execution_count": 4,
   "id": "3b9f8a48",
   "metadata": {},
   "outputs": [
    {
     "data": {
      "text/plain": [
       "{'article': 29,\n",
       " 'IEEEtran': 4,\n",
       " 'report': 5,\n",
       " 'book': 3,\n",
       " 'slides': 3,\n",
       " 'letter': 1,\n",
       " 'proc': 0}"
      ]
     },
     "execution_count": 4,
     "metadata": {},
     "output_type": "execute_result"
    }
   ],
   "source": [
    "for idx in range((len(test_cases))):\n",
    "    type_found = re.findall('(?<=documentclass)(.*?)(?=})',test_cases[idx])\n",
    "    simular_type = [fuzz.partial_ratio(i,type_found) for i in doc_keys]\n",
    "    doc_types[doc_keys[simular_type.index(max(simular_type))]] += 1\n",
    "doc_types"
   ]
  },
  {
   "cell_type": "code",
   "execution_count": 5,
   "id": "7cbd3052",
   "metadata": {},
   "outputs": [
    {
     "data": {
      "text/plain": [
       "Text(0.5, 1.0, 'document class distribution')"
      ]
     },
     "execution_count": 5,
     "metadata": {},
     "output_type": "execute_result"
    },
    {
     "data": {
      "image/png": "[encoded data removed]",
      "text/plain": [
       "<Figure size 432x288 with 1 Axes>"
      ]
     },
     "metadata": {
      "needs_background": "light"
     },
     "output_type": "display_data"
    }
   ],
   "source": [
    "plt.bar([i[0] for i in doc_types],[i[1] for i in doc_types] )\n",
    "plt.title('document class distribution')"
   ]
  },
  {
   "cell_type": "code",
   "execution_count": null,
   "id": "aa9d0080",
   "metadata": {},
   "outputs": [],
   "source": []
  }
 ],
 "metadata": {
  "kernelspec": {
   "display_name": "Python 3 (ipykernel)",
   "language": "python",
   "name": "python3"
  },
  "language_info": {
   "codemirror_mode": {
    "name": "ipython",
    "version": 3
   },
   "file_extension": ".py",
   "mimetype": "text/x-python",
   "name": "python",
   "nbconvert_exporter": "python",
   "pygments_lexer": "ipython3",
   "version": "3.8.5"
  }
 },
 "nbformat": 4,
 "nbformat_minor": 5
}
