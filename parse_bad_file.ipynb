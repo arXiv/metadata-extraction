{
 "cells": [
  {
   "cell_type": "code",
   "execution_count": 1,
   "id": "5385a6ff-0507-42ae-8ed7-090bc79688be",
   "metadata": {
    "tags": []
   },
   "outputs": [],
   "source": [
    "import zipfile\n",
    "import io\n",
    "import importlib\n",
    "import os"
   ]
  },
  {
   "cell_type": "code",
   "execution_count": 2,
   "id": "d172ce28-bd35-4aa2-b7e9-0566d744ae17",
   "metadata": {
    "tags": []
   },
   "outputs": [],
   "source": [
    "from IPython.core.interactiveshell import InteractiveShell\n",
    "# pretty print all cell's output and not just the last one\n",
    "InteractiveShell.ast_node_interactivity = \"all\""
   ]
  },
  {
   "cell_type": "code",
   "execution_count": 3,
   "id": "80dbee31-8e2c-4401-be72-e403dac3885e",
   "metadata": {
    "tags": []
   },
   "outputs": [],
   "source": [
    "import TexSoup as TS\n",
    "#importlib.reload(TS)"
   ]
  },
  {
   "cell_type": "code",
   "execution_count": 4,
   "id": "7c3ebacc-89eb-454a-97c9-5068f77a0d71",
   "metadata": {},
   "outputs": [],
   "source": [
    "LOCAL_DATA_PATH = './data'"
   ]
  },
  {
   "cell_type": "code",
   "execution_count": 5,
   "id": "e5171153-1316-4310-9251-ee1627762470",
   "metadata": {
    "tags": []
   },
   "outputs": [],
   "source": [
    "def pre_format(text):\n",
    "    '''Apply some substititions to make LaTeX easier to parse'''\n",
    "    source_text = (\n",
    "        text\n",
    "        .replace('\\\\}\\\\', '\\\\} \\\\')  # Due to escape rules \\\\ is equivalent to \\\n",
    "        .replace(')}', ') }')\n",
    "        .replace(')$', ') $')\n",
    "    )\n",
    "    return source_text"
   ]
  },
  {
   "cell_type": "code",
   "execution_count": 6,
   "id": "6324bc82-02a7-4032-b3e5-de19e751be34",
   "metadata": {},
   "outputs": [
    {
     "ename": "NameError",
     "evalue": "name 'infile_path' is not defined",
     "output_type": "error",
     "traceback": [
      "\u001b[0;31m---------------------------------------------------------------------------\u001b[0m",
      "\u001b[0;31mNameError\u001b[0m                                 Traceback (most recent call last)",
      "Cell \u001b[0;32mIn[6], line 1\u001b[0m\n\u001b[0;32m----> 1\u001b[0m \u001b[43minfile_path\u001b[49m\n",
      "\u001b[0;31mNameError\u001b[0m: name 'infile_path' is not defined"
     ]
    }
   ],
   "source": [
    "infile_path"
   ]
  },
  {
   "cell_type": "code",
   "execution_count": 7,
   "id": "3ae8ad8b-8fdd-45f0-92c2-70075213f2d6",
   "metadata": {
    "tags": []
   },
   "outputs": [
    {
     "ename": "FileNotFoundError",
     "evalue": "[Errno 2] No such file or directory: './data/2201.00007v1.zip'",
     "output_type": "error",
     "traceback": [
      "\u001b[0;31m---------------------------------------------------------------------------\u001b[0m",
      "\u001b[0;31mFileNotFoundError\u001b[0m                         Traceback (most recent call last)",
      "Cell \u001b[0;32mIn[7], line 5\u001b[0m\n\u001b[1;32m      3\u001b[0m infile_path \u001b[38;5;241m=\u001b[39m os\u001b[38;5;241m.\u001b[39mpath\u001b[38;5;241m.\u001b[39mjoin(LOCAL_DATA_PATH, input_zip)\n\u001b[1;32m      4\u001b[0m \u001b[38;5;28;01mif\u001b[39;00m \u001b[38;5;28;01mTrue\u001b[39;00m: \u001b[38;5;66;03m#False:\u001b[39;00m\n\u001b[0;32m----> 5\u001b[0m     \u001b[38;5;28;01mwith\u001b[39;00m \u001b[43mzipfile\u001b[49m\u001b[38;5;241;43m.\u001b[39;49m\u001b[43mZipFile\u001b[49m\u001b[43m(\u001b[49m\u001b[43minfile_path\u001b[49m\u001b[43m,\u001b[49m\u001b[43m \u001b[49m\u001b[38;5;124;43m\"\u001b[39;49m\u001b[38;5;124;43mr\u001b[39;49m\u001b[38;5;124;43m\"\u001b[39;49m\u001b[43m)\u001b[49m \u001b[38;5;28;01mas\u001b[39;00m in_zip:\n\u001b[1;32m      6\u001b[0m         files \u001b[38;5;241m=\u001b[39m in_zip\u001b[38;5;241m.\u001b[39minfolist()\n\u001b[1;32m      7\u001b[0m         \u001b[38;5;28;01mfor\u001b[39;00m file_info \u001b[38;5;129;01min\u001b[39;00m files:\n",
      "File \u001b[0;32m~/miniconda3/envs/cforge/lib/python3.10/zipfile.py:1249\u001b[0m, in \u001b[0;36mZipFile.__init__\u001b[0;34m(self, file, mode, compression, allowZip64, compresslevel, strict_timestamps)\u001b[0m\n\u001b[1;32m   1247\u001b[0m \u001b[38;5;28;01mwhile\u001b[39;00m \u001b[38;5;28;01mTrue\u001b[39;00m:\n\u001b[1;32m   1248\u001b[0m     \u001b[38;5;28;01mtry\u001b[39;00m:\n\u001b[0;32m-> 1249\u001b[0m         \u001b[38;5;28mself\u001b[39m\u001b[38;5;241m.\u001b[39mfp \u001b[38;5;241m=\u001b[39m \u001b[43mio\u001b[49m\u001b[38;5;241;43m.\u001b[39;49m\u001b[43mopen\u001b[49m\u001b[43m(\u001b[49m\u001b[43mfile\u001b[49m\u001b[43m,\u001b[49m\u001b[43m \u001b[49m\u001b[43mfilemode\u001b[49m\u001b[43m)\u001b[49m\n\u001b[1;32m   1250\u001b[0m     \u001b[38;5;28;01mexcept\u001b[39;00m \u001b[38;5;167;01mOSError\u001b[39;00m:\n\u001b[1;32m   1251\u001b[0m         \u001b[38;5;28;01mif\u001b[39;00m filemode \u001b[38;5;129;01min\u001b[39;00m modeDict:\n",
      "\u001b[0;31mFileNotFoundError\u001b[0m: [Errno 2] No such file or directory: './data/2201.00007v1.zip'"
     ]
    }
   ],
   "source": [
    "# Discover the file list:\n",
    "input_zip = '2201.00007v1.zip'\n",
    "infile_path = os.path.join(LOCAL_DATA_PATH, input_zip)\n",
    "if True: #False:\n",
    "    with zipfile.ZipFile(infile_path, \"r\") as in_zip:\n",
    "        files = in_zip.infolist()\n",
    "        for file_info in files:\n",
    "            if not '/.' in file_info.filename:\n",
    "                print(file_info.filename)"
   ]
  },
  {
   "cell_type": "code",
   "execution_count": null,
   "id": "89f1b901",
   "metadata": {
    "lines_to_next_cell": 2,
    "tags": []
   },
   "outputs": [],
   "source": [
    "main_tex = '2201.00007v1/main.tex'\n",
    "with zipfile.ZipFile(infile_path, \"r\") as in_zip:\n",
    "    with in_zip.open('2201.00007v1/main.tex') as in_tex:\n",
    "        #print(in_tex.read())\n",
    "        wrapped_file = io.TextIOWrapper(in_tex, newline=None, encoding='utf-8') #universal newlines\n",
    "        source_text = pre_format(wrapped_file.read())\n",
    "        soup = TS.TexSoup(source_text)"
   ]
  },
  {
   "cell_type": "code",
   "execution_count": 63,
   "id": "e8fd897e-8a1c-44e8-bda8-f59f39e30ea1",
   "metadata": {
    "lines_to_next_cell": 2,
    "tags": []
   },
   "outputs": [
    {
     "name": "stdout",
     "output_type": "stream",
     "text": [
      "title: ['Avoiding Catastrophe: Active Dendrites Enable Multi-Task Learning in Dynamic Environments']\n",
      " section: ['Introduction']\n",
      " section: ['Background']\n",
      " section: ['Active Dendrites Network Model']\n",
      " section: ['Results']\n",
      " section: ['Discussion']\n",
      " section: ['Methods']\n",
      " section: ['Understanding Parameters in the Model']\n",
      " section: ['Active Dendrites Network with a Fixed Number of Parameters']\n",
      " section: ['Number of Clusters Formed when Inferring Prototypes']\n"
     ]
    }
   ],
   "source": [
    "title = soup.find('title')\n",
    "print(f\"{title.name}: {title.text}\")\n",
    "for sec in soup.find_all('section'):\n",
    "    print(f' {sec.name}: {sec.text}')\n",
    "    \n"
   ]
  },
  {
   "cell_type": "code",
   "execution_count": 8,
   "id": "dcf6ba56-8143-418f-b8ff-6a341d3036c5",
   "metadata": {
    "lines_to_next_cell": 0,
    "tags": []
   },
   "outputs": [
    {
     "data": {
      "text/plain": [
       "% Template for ICASSP-2021 paper; to be used with:\n",
       "%          spconf.sty  - ICASSP/ICIP LaTeX style file, and\n",
       "%          IEEEbib.bst - IEEE bibliography style file.\n",
       "% --------------------------------------------------------------------------\n",
       "\\documentclass{article}\n",
       "\\usepackage{spconf,amsmath,graphicx,booktabs,multirow,float,amssymb,amsfonts}\n",
       "\n",
       "% Example definitions.\n",
       "% --------------------\n",
       "\\def\\x{{\\mathbf x}}\n",
       "\\def\\L{{\\cal L}}\n",
       "\n",
       "\n",
       "\\mbox{Average Improvement}=$\\frac{1}{n}\\sum_{i}^{n}\\left(Acc_{\\mathrm{CA-MKD}}^{i}-Acc_{\\mathrm{EBKD}}^{i}\\right) $),\n",
       "\n",
       "$iota(p) $\n",
       "\n",
       "%Table~\\ref{table:MKD} shows the top-1 accuracy comparison on CIFAR-100. \n",
       "%We also include the results of teacher ensemble with the majority voting strategy. \n",
       "%We can find that CA-MKD surpasses all competitors cross various architectures. \n",
       "%Specifically, compared to the second best method (EBKD), CA-MKD outperforms it with \n",
       "%0.81\\% average improvement\n",
       "%\\footnote{\n",
       "%\\mbox{Average Improvement}=$\\frac{1}{n}\\sum_{i}^{n}\\left(Acc_{\\mathrm{CA-MKD}}^{i}-Acc_{\\mathrm{EBKD}}^{i}\\right) $,\n",
       "%where the accuracies of CA-MKD, \n",
       "%EBKD in the $i$-th teacher-student combination are denoted as $Acc_{\\mathrm{CA-MKD}}^{i}$, $Acc_{\\mathrm{EBKD}}^{i}$, respectively.},\n",
       "%and achieves 1.66\\% absolute accuracy improvement in the best case. \n",
       "\n",
       "\n",
       "\n",
       "\\end{document}"
      ]
     },
     "execution_count": 8,
     "metadata": {},
     "output_type": "execute_result"
    }
   ],
   "source": [
    "min_example=r\"\"\"\n",
    "% Template for ICASSP-2021 paper; to be used with:\n",
    "%          spconf.sty  - ICASSP/ICIP LaTeX style file, and\n",
    "%          IEEEbib.bst - IEEE bibliography style file.\n",
    "% --------------------------------------------------------------------------\n",
    "\\documentclass{article}\n",
    "\\usepackage{spconf,amsmath,graphicx,booktabs,multirow,float,amssymb,amsfonts}\n",
    "\n",
    "% Example definitions.\n",
    "% --------------------\n",
    "\\def\\x{{\\mathbf x}}\n",
    "\\def\\L{{\\cal L}}\n",
    "\n",
    "\n",
    "\\mbox{Average Improvement}=$\\frac{1}{n}\\sum_{i}^{n}\\left(Acc_{\\mathrm{CA-MKD}}^{i}-Acc_{\\mathrm{EBKD}}^{i}\\right) $),\n",
    "\n",
    "$iota(p)$\n",
    "\n",
    "%Table~\\ref{table:MKD} shows the top-1 accuracy comparison on CIFAR-100. \n",
    "%We also include the results of teacher ensemble with the majority voting strategy. \n",
    "%We can find that CA-MKD surpasses all competitors cross various architectures. \n",
    "%Specifically, compared to the second best method (EBKD), CA-MKD outperforms it with \n",
    "%0.81\\% average improvement\n",
    "%\\footnote{\n",
    "%\\mbox{Average Improvement}=$\\frac{1}{n}\\sum_{i}^{n}\\left(Acc_{\\mathrm{CA-MKD}}^{i}-Acc_{\\mathrm{EBKD}}^{i}\\right)$,\n",
    "%where the accuracies of CA-MKD, \n",
    "%EBKD in the $i$-th teacher-student combination are denoted as $Acc_{\\mathrm{CA-MKD}}^{i}$, $Acc_{\\mathrm{EBKD}}^{i}$, respectively.},\n",
    "%and achieves 1.66\\% absolute accuracy improvement in the best case. \n",
    "\n",
    "\n",
    "\n",
    "\\end{document}\n",
    "\"\"\".strip() #.replace('\\\\}\\\\', '\\\\} \\\\').replace(')}', ') }')\n",
    "TS.TexSoup(pre_format(min_example))\n",
    "#print(min_example)"
   ]
  },
  {
   "cell_type": "code",
   "execution_count": null,
   "id": "f912c4aa-6006-4051-86e7-906d18cc8041",
   "metadata": {
    "lines_to_next_cell": 2
   },
   "outputs": [],
   "source": []
  }
 ],
 "metadata": {
  "jupytext": {
   "formats": "ipynb,py:light"
  },
  "kernelspec": {
   "display_name": "Python 3 (ipykernel)",
   "language": "python",
   "name": "python3"
  },
  "language_info": {
   "codemirror_mode": {
    "name": "ipython",
    "version": 3
   },
   "file_extension": ".py",
   "mimetype": "text/x-python",
   "name": "python",
   "nbconvert_exporter": "python",
   "pygments_lexer": "ipython3",
   "version": "3.10.9"
  }
 },
 "nbformat": 4,
 "nbformat_minor": 5
}
