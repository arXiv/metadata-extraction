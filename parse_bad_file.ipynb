{
 "cells": [
  {
   "cell_type": "code",
   "execution_count": 3,
   "id": "4cf5d0dc-f846-4026-973f-fc35f5488c1e",
   "metadata": {
    "tags": []
   },
   "outputs": [],
   "source": [
    "import zipfile\n",
    "import io\n",
    "import importlib\n",
    "import os"
   ]
  },
  {
   "cell_type": "code",
   "execution_count": 4,
   "id": "d172ce28-bd35-4aa2-b7e9-0566d744ae17",
   "metadata": {
    "tags": []
   },
   "outputs": [],
   "source": [
    "from IPython.core.interactiveshell import InteractiveShell\n",
    "# pretty print all cell's output and not just the last one\n",
    "InteractiveShell.ast_node_interactivity = \"all\""
   ]
  },
  {
   "cell_type": "code",
   "execution_count": 5,
   "id": "80dbee31-8e2c-4401-be72-e403dac3885e",
   "metadata": {
    "tags": []
   },
   "outputs": [],
   "source": [
    "import TexSoup as TS\n",
    "#importlib.reload(TS)"
   ]
  },
  {
   "cell_type": "code",
   "execution_count": 18,
   "id": "7c3ebacc-89eb-454a-97c9-5068f77a0d71",
   "metadata": {},
   "outputs": [],
   "source": [
    "LOCAL_DATA_PATH = './data'"
   ]
  },
  {
   "cell_type": "code",
   "execution_count": 19,
   "id": "e5171153-1316-4310-9251-ee1627762470",
   "metadata": {
    "tags": []
   },
   "outputs": [],
   "source": [
    "def pre_format(text):\n",
    "    '''Apply some substititions to make LaTeX easier to parse'''\n",
    "    source_text = (\n",
    "        text\n",
    "        .replace('\\\\}\\\\', '\\\\} \\\\')  # Due to escape rules \\\\ is equivalent to \\\n",
    "        .replace(')}', ') }')\n",
    "        .replace(')$', ') $')\n",
    "    )\n",
    "    return source_text"
   ]
  },
  {
   "cell_type": "code",
   "execution_count": 20,
   "id": "6324bc82-02a7-4032-b3e5-de19e751be34",
   "metadata": {},
   "outputs": [
    {
     "data": {
      "text/plain": [
       "'data/2201.00007v1.zip'"
      ]
     },
     "execution_count": 20,
     "metadata": {},
     "output_type": "execute_result"
    }
   ],
   "source": [
    "infile_path"
   ]
  },
  {
   "cell_type": "code",
   "execution_count": 21,
   "id": "1971cfce-4d63-4c1f-be5b-38489b78f647",
   "metadata": {
    "tags": []
   },
   "outputs": [
    {
     "name": "stdout",
     "output_type": "stream",
     "text": [
      "2201.00007v1/\n",
      "2201.00007v1/image4.eps\n",
      "2201.00007v1/IEEEbib.bst\n",
      "2201.00007v1/main.bbl\n",
      "2201.00007v1/refs.bib\n",
      "2201.00007v1/image1.eps\n",
      "2201.00007v1/image3.eps\n",
      "2201.00007v1/strings.bib\n",
      "2201.00007v1/overview.png\n",
      "2201.00007v1/main.tex\n",
      "2201.00007v1/weight.png\n",
      "2201.00007v1/overview2.png\n",
      "2201.00007v1/spconf.sty\n",
      "2201.00007v1/tnum.png\n",
      "2201.00007v1/sketch.png\n"
     ]
    }
   ],
   "source": [
    "# Discover the file list:\n",
    "input_zip = '2201.00007v1.zip'\n",
    "infile_path = os.path.join(LOCAL_DATA_PATH, input_zip)\n",
    "if True: #False:\n",
    "    with zipfile.ZipFile(infile_path, \"r\") as in_zip:\n",
    "        files = in_zip.infolist()\n",
    "        for file_info in files:\n",
    "            if not '/.' in file_info.filename:\n",
    "                print(file_info.filename)"
   ]
  },
  {
   "cell_type": "code",
   "execution_count": 22,
   "id": "531bd6f8-b32a-42f5-a7f9-62faacd0c4e8",
   "metadata": {
    "tags": []
   },
   "outputs": [],
   "source": [
    "main_tex = '2201.00007v1/main.tex'\n",
    "with zipfile.ZipFile(infile_path, \"r\") as in_zip:\n",
    "    with in_zip.open('2201.00007v1/main.tex') as in_tex:\n",
    "        #print(in_tex.read())\n",
    "        wrapped_file = io.TextIOWrapper(in_tex, newline=None, encoding='utf-8') #universal newlines\n",
    "        source_text = pre_format(wrapped_file.read())\n",
    "        soup = TS.TexSoup(source_text)\n"
   ]
  },
  {
   "cell_type": "code",
   "execution_count": 23,
   "id": "71e744a6-f42c-47e1-917e-f5bdff07711d",
   "metadata": {
    "tags": []
   },
   "outputs": [
    {
     "name": "stdout",
     "output_type": "stream",
     "text": [
      "title: ['CONFIDENCE-AWARE MULTI-TEACHER KNOWLEDGE DISTILLATION']\n",
      " section: ['Introduction']\n",
      " section: ['RELATED WORK']\n",
      " section: ['METHODOLOGY']\n",
      " section: ['EXPERIMENT']\n",
      " section: ['CONCLUSION']\n"
     ]
    }
   ],
   "source": [
    "title = soup.find('title')\n",
    "print(f\"{title.name}: {title.text}\")\n",
    "for sec in soup.find_all('section'):\n",
    "    print(f' {sec.name}: {sec.text}')\n",
    "    \n",
    "\n"
   ]
  },
  {
   "cell_type": "code",
   "execution_count": 24,
   "id": "9ee9c4d1-97a9-4f76-8766-3f44fe3d30a5",
   "metadata": {
    "tags": []
   },
   "outputs": [
    {
     "data": {
      "text/plain": [
       "% Template for ICASSP-2021 paper; to be used with:\n",
       "%          spconf.sty  - ICASSP/ICIP LaTeX style file, and\n",
       "%          IEEEbib.bst - IEEE bibliography style file.\n",
       "% --------------------------------------------------------------------------\n",
       "\\documentclass{article}\n",
       "\\usepackage{spconf,amsmath,graphicx,booktabs,multirow,float,amssymb,amsfonts}\n",
       "\n",
       "% Example definitions.\n",
       "% --------------------\n",
       "\\def{\\}{x}{{\\mathbf x}}\n",
       "\\def{\\}{L}{{\\cal L}}\n",
       "\n",
       "\n",
       "\\mbox{Average Improvement}=$\\frac{1}{n}\\sum_{i}^{n}\\left(Acc_{\\mathrm{CA-MKD}}^{i}-Acc_{\\mathrm{EBKD}}^{i}\\right)$),\n",
       "\n",
       "$iota(p) $\n",
       "\n",
       "%Table~\\ref{table:MKD} shows the top-1 accuracy comparison on CIFAR-100. \n",
       "%We also include the results of teacher ensemble with the majority voting strategy. \n",
       "%We can find that CA-MKD surpasses all competitors cross various architectures. \n",
       "%Specifically, compared to the second best method (EBKD), CA-MKD outperforms it with \n",
       "%0.81\\% average improvement\n",
       "%\\footnote{\n",
       "%\\mbox{Average Improvement}=$\\frac{1}{n}\\sum_{i}^{n}\\left(Acc_{\\mathrm{CA-MKD}}^{i}-Acc_{\\mathrm{EBKD}}^{i}\\right) $,\n",
       "%where the accuracies of CA-MKD, \n",
       "%EBKD in the $i$-th teacher-student combination are denoted as $Acc_{\\mathrm{CA-MKD}}^{i}$, $Acc_{\\mathrm{EBKD}}^{i}$, respectively.},\n",
       "%and achieves 1.66\\% absolute accuracy improvement in the best case. \n",
       "\n",
       "\n",
       "\n",
       "\\end{document}"
      ]
     },
     "execution_count": 24,
     "metadata": {},
     "output_type": "execute_result"
    }
   ],
   "source": [
    "min_example=r\"\"\"\n",
    "% Template for ICASSP-2021 paper; to be used with:\n",
    "%          spconf.sty  - ICASSP/ICIP LaTeX style file, and\n",
    "%          IEEEbib.bst - IEEE bibliography style file.\n",
    "% --------------------------------------------------------------------------\n",
    "\\documentclass{article}\n",
    "\\usepackage{spconf,amsmath,graphicx,booktabs,multirow,float,amssymb,amsfonts}\n",
    "\n",
    "% Example definitions.\n",
    "% --------------------\n",
    "\\def\\x{{\\mathbf x}}\n",
    "\\def\\L{{\\cal L}}\n",
    "\n",
    "\n",
    "\\mbox{Average Improvement}=$\\frac{1}{n}\\sum_{i}^{n}\\left(Acc_{\\mathrm{CA-MKD}}^{i}-Acc_{\\mathrm{EBKD}}^{i}\\right) $),\n",
    "\n",
    "$iota(p)$\n",
    "\n",
    "%Table~\\ref{table:MKD} shows the top-1 accuracy comparison on CIFAR-100. \n",
    "%We also include the results of teacher ensemble with the majority voting strategy. \n",
    "%We can find that CA-MKD surpasses all competitors cross various architectures. \n",
    "%Specifically, compared to the second best method (EBKD), CA-MKD outperforms it with \n",
    "%0.81\\% average improvement\n",
    "%\\footnote{\n",
    "%\\mbox{Average Improvement}=$\\frac{1}{n}\\sum_{i}^{n}\\left(Acc_{\\mathrm{CA-MKD}}^{i}-Acc_{\\mathrm{EBKD}}^{i}\\right)$,\n",
    "%where the accuracies of CA-MKD, \n",
    "%EBKD in the $i$-th teacher-student combination are denoted as $Acc_{\\mathrm{CA-MKD}}^{i}$, $Acc_{\\mathrm{EBKD}}^{i}$, respectively.},\n",
    "%and achieves 1.66\\% absolute accuracy improvement in the best case. \n",
    "\n",
    "\n",
    "\n",
    "\\end{document}\n",
    "\"\"\".strip() #.replace('\\\\}\\\\', '\\\\} \\\\').replace(')}', ') }')\n",
    "TS.TexSoup(pre_format(min_example))\n",
    "#print(min_example)"
   ]
  },
  {
   "cell_type": "code",
   "execution_count": null,
   "id": "828170bf-8ecd-42d9-8d7a-72ea96882d76",
   "metadata": {},
   "outputs": [],
   "source": []
  }
 ],
 "metadata": {
  "jupytext": {
   "formats": "ipynb,auto:light"
  },
  "kernelspec": {
   "display_name": "Python 3 (ipykernel)",
   "language": "python",
   "name": "python3"
  },
  "language_info": {
   "codemirror_mode": {
    "name": "ipython",
    "version": 3
   },
   "file_extension": ".py",
   "mimetype": "text/x-python",
   "name": "python",
   "nbconvert_exporter": "python",
   "pygments_lexer": "ipython3",
   "version": "3.9.9"
  }
 },
 "nbformat": 4,
 "nbformat_minor": 5
}
